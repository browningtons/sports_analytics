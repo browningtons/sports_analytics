{
 "cells": [
  {
   "cell_type": "markdown",
   "metadata": {},
   "source": [
    "### NBA Stats Project"
   ]
  },
  {
   "cell_type": "code",
   "execution_count": 1,
   "metadata": {},
   "outputs": [],
   "source": [
    "#import necessary libraries\n",
    "import pandas as pd\n",
    "import time\n",
    "import gspread\n",
    "from oauth2client.service_account import ServiceAccountCredentials\n",
    "import pygsheets\n",
    "import datetime"
   ]
  },
  {
   "cell_type": "code",
   "execution_count": 2,
   "metadata": {},
   "outputs": [],
   "source": [
    "date = datetime.datetime.now().strftime(\"%Y-%m-%d %H:%M:%S\")"
   ]
  },
  {
   "cell_type": "markdown",
   "metadata": {},
   "source": [
    "### Get Player Data\n",
    "Per Game & Totals. Then concatenate them together"
   ]
  },
  {
   "cell_type": "code",
   "execution_count": 3,
   "metadata": {},
   "outputs": [],
   "source": [
    "#create a dataframe from the list of dataframes pulls from pd.read_html\n",
    "df_player = pd.read_html('https://www.basketball-reference.com/leagues/NBA_2020_per_game.html')[0]"
   ]
  },
  {
   "cell_type": "code",
   "execution_count": 4,
   "metadata": {},
   "outputs": [],
   "source": [
    "#select numeric columns to be used in converting to float\n",
    "num_cols = df_player.columns.drop(['Player','Pos','Age','Tm','G','GS'])\n",
    "df_player[num_cols] = df_player[num_cols].apply(pd.to_numeric, errors='coerce')\n",
    "df_player = df_player[df_player.Rk > 0]\n",
    "df_player = df_player.groupby('Player').first().reset_index()"
   ]
  },
  {
   "cell_type": "code",
   "execution_count": 5,
   "metadata": {},
   "outputs": [],
   "source": [
    "#df_player['Player'].value_counts().sort_values(ascending=False).head(10)"
   ]
  },
  {
   "cell_type": "code",
   "execution_count": null,
   "metadata": {},
   "outputs": [],
   "source": []
  },
  {
   "cell_type": "code",
   "execution_count": 6,
   "metadata": {},
   "outputs": [],
   "source": [
    "#pull in the totals and not just the per game\n",
    "df_player_total = pd.read_html('https://www.basketball-reference.com/leagues/NBA_2020_totals.html')[0]"
   ]
  },
  {
   "cell_type": "code",
   "execution_count": 7,
   "metadata": {},
   "outputs": [],
   "source": [
    "#select numeric columns to be used in converting to float\n",
    "num_cols = df_player_total.columns.drop(['Player','Pos','Age','Tm','G','GS'])\n",
    "df_player_total[num_cols] = df_player_total[num_cols].apply(pd.to_numeric, errors='coerce')\n",
    "df_player_total = df_player_total[['Player','Rk','MP','FG','FGA','3P','3PA','FT',\n",
    "                                   'FTA','TRB','AST','STL','BLK','TOV','PF',\n",
    "                                   'PTS']]\n",
    "df_player_total = df_player_total[df_player_total.Rk > 0]\n",
    "df_player_total = df_player_total.groupby('Player').first().reset_index()"
   ]
  },
  {
   "cell_type": "code",
   "execution_count": 8,
   "metadata": {},
   "outputs": [],
   "source": [
    "df_combo = df_player.merge(df_player_total, on='Player', suffixes=('_Per','_Tot'))"
   ]
  },
  {
   "cell_type": "markdown",
   "metadata": {},
   "source": [
    "### Get Advanced Stats"
   ]
  },
  {
   "cell_type": "code",
   "execution_count": 9,
   "metadata": {},
   "outputs": [],
   "source": [
    "#create a dataframe from the list of dataframes pulls from pd.read_html\n",
    "df_adv = pd.read_html('https://www.basketball-reference.com/leagues/NBA_2020_advanced.html')[0]"
   ]
  },
  {
   "cell_type": "code",
   "execution_count": 10,
   "metadata": {},
   "outputs": [],
   "source": [
    "#wrangle the dataframe\n",
    "df_adv = df_adv.drop(['Unnamed: 19','Unnamed: 24'], axis=1)\n",
    "num_cols = df_adv.columns.drop(['Player','Pos','Age','Tm','G'])\n",
    "df_adv[num_cols] = df_adv[num_cols].apply(pd.to_numeric, errors='coerce')\n",
    "df_adv = df_adv[['Rk','Player','PER','TS%','3PAr',\n",
    "                 'FTr','ORB%','DRB%','TRB%','AST%',\n",
    "                 'STL%','BLK%','TOV%','USG%']]\n",
    "df_adv = df_adv[df_adv.Rk > 0]\n",
    "df_adv = df_adv.groupby('Player').first().reset_index()"
   ]
  },
  {
   "cell_type": "code",
   "execution_count": 11,
   "metadata": {},
   "outputs": [],
   "source": [
    "df_combo = df_combo.merge(df_adv, on='Player', suffixes=('_M1','Adv'))"
   ]
  },
  {
   "cell_type": "markdown",
   "metadata": {},
   "source": [
    "### Get Per 100 Possessions Stats"
   ]
  },
  {
   "cell_type": "code",
   "execution_count": 12,
   "metadata": {},
   "outputs": [],
   "source": [
    "#create a dataframe from the list of dataframes pulls from pd.read_html\n",
    "df_100 = pd.read_html('https://www.basketball-reference.com/leagues/NBA_2020_per_poss.html')[0]"
   ]
  },
  {
   "cell_type": "code",
   "execution_count": 13,
   "metadata": {},
   "outputs": [],
   "source": [
    "#wrangle the dataframe\n",
    "df_100 = df_100[['Rk','Player','ORtg','DRtg','PTS']]\n",
    "num_cols = df_100.columns.drop(['Player'])\n",
    "df_100[num_cols] = df_100[num_cols].apply(pd.to_numeric, errors='coerce')\n",
    "df_100 = df_100[df_100.Rk > 0]\n",
    "df_100 = df_100.groupby('Player').first().reset_index()"
   ]
  },
  {
   "cell_type": "code",
   "execution_count": 14,
   "metadata": {},
   "outputs": [],
   "source": [
    "df_combo = df_combo.merge(df_100, on='Player', suffixes=('_M1','100'))\n",
    "df_combo = df_combo.drop(['Rk100','Rk_M1','Rk_Tot','Rk_Per'], axis=1)\n",
    "df_combo = df_combo.rename(columns={'PTS':'PTS_100'})\n",
    "df_combo['UpdateTime'] = date"
   ]
  },
  {
   "cell_type": "code",
   "execution_count": 18,
   "metadata": {},
   "outputs": [
    {
     "data": {
      "text/plain": [
       "0"
      ]
     },
     "execution_count": 18,
     "metadata": {},
     "output_type": "execute_result"
    }
   ],
   "source": [
    "df_combo.duplicated(subset='').sum()"
   ]
  },
  {
   "cell_type": "markdown",
   "metadata": {},
   "source": [
    "### Connect to Google Sheets"
   ]
  },
  {
   "cell_type": "code",
   "execution_count": 16,
   "metadata": {},
   "outputs": [],
   "source": [
    "pycred = pygsheets.authorize(service_file='credentials2.json')\n",
    "#opening the gsheet and sheet you want to work with\n",
    "ss = pycred.open('NBA Stats 2020')[0]\n",
    "#overwrite what is in the sheet with your df\n",
    "ss.set_dataframe(df_combo,(1,1))"
   ]
  },
  {
   "cell_type": "code",
   "execution_count": null,
   "metadata": {},
   "outputs": [],
   "source": []
  },
  {
   "cell_type": "markdown",
   "metadata": {},
   "source": [
    "### Get Team Data"
   ]
  },
  {
   "cell_type": "code",
   "execution_count": 17,
   "metadata": {},
   "outputs": [],
   "source": [
    "#create a dataframe from the list of dataframes pulls from pd.read_html\n",
    "df_team = pd.read_html('https://www.basketball-reference.com/leagues/NBA_2020_ratings.html')[0]\n",
    "#remove the multi-index column header\n",
    "df_team.columns = df_team.columns.droplevel()"
   ]
  },
  {
   "cell_type": "code",
   "execution_count": 18,
   "metadata": {},
   "outputs": [],
   "source": [
    "#opening the gsheet and sheet you want to work with\n",
    "ss2 = pycred.open('NBA Stats 2020')[1]\n",
    "#overwrite what is in the sheet with your df\n",
    "ss2.set_dataframe(df_team,(1,1))"
   ]
  },
  {
   "cell_type": "markdown",
   "metadata": {},
   "source": [
    "### Get per game data from the highest scorers in NBA history"
   ]
  },
  {
   "cell_type": "code",
   "execution_count": 19,
   "metadata": {},
   "outputs": [],
   "source": [
    "#url_list = []\n",
    "\n",
    "#for i in range(2008,2020):\n",
    "#    urls = 'https://www.basketball-reference.com/players/j/duranke01/gamelog/%d' %i\n",
    "#    data = pd.read_html(urls)[7]\n",
    "#    #data = data[['Rk','G','Date','']]\n",
    "#    data['Year'] = i\n",
    "#    url_list.append(data)"
   ]
  },
  {
   "cell_type": "code",
   "execution_count": 20,
   "metadata": {},
   "outputs": [],
   "source": [
    "#lebron_data = pd.concat(url_list, ignore_index=True)"
   ]
  },
  {
   "cell_type": "code",
   "execution_count": null,
   "metadata": {},
   "outputs": [],
   "source": []
  }
 ],
 "metadata": {
  "kernelspec": {
   "display_name": "Python 3",
   "language": "python",
   "name": "python3"
  },
  "language_info": {
   "codemirror_mode": {
    "name": "ipython",
    "version": 3
   },
   "file_extension": ".py",
   "mimetype": "text/x-python",
   "name": "python",
   "nbconvert_exporter": "python",
   "pygments_lexer": "ipython3",
   "version": "3.7.4"
  }
 },
 "nbformat": 4,
 "nbformat_minor": 2
}
