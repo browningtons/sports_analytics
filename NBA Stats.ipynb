{
 "cells": [
  {
   "cell_type": "markdown",
   "metadata": {},
   "source": [
    "### NBA Stats Project"
   ]
  },
  {
   "cell_type": "code",
   "execution_count": 1,
   "metadata": {},
   "outputs": [],
   "source": [
    "#import necessary libraries\n",
    "import pandas as pd\n",
    "import time\n",
    "import gspread\n",
    "from oauth2client.service_account import ServiceAccountCredentials\n",
    "import pygsheets"
   ]
  },
  {
   "cell_type": "markdown",
   "metadata": {},
   "source": [
    "### Get Player Data"
   ]
  },
  {
   "cell_type": "code",
   "execution_count": 7,
   "metadata": {},
   "outputs": [],
   "source": [
    "#create a dataframe from the list of dataframes pulls from pd.read_html\n",
    "df_player = pd.read_html('https://www.basketball-reference.com/leagues/NBA_2020_per_game.html')[0]"
   ]
  },
  {
   "cell_type": "code",
   "execution_count": 8,
   "metadata": {},
   "outputs": [],
   "source": [
    "#select numeric columns to be used in converting to float\n",
    "num_cols = df_player.columns.drop(['Rk','Player','Pos','Age','Tm','G','GS'])\n",
    "df_player[num_cols] = df_player[num_cols].apply(pd.to_numeric, errors='coerce')\n",
    "#drop any rows that have any NaN\n",
    "df_player = df_player.dropna(how='any')"
   ]
  },
  {
   "cell_type": "markdown",
   "metadata": {},
   "source": [
    "### Connect to Google Sheets"
   ]
  },
  {
   "cell_type": "code",
   "execution_count": 9,
   "metadata": {},
   "outputs": [],
   "source": [
    "pycred = pygsheets.authorize(service_file='credentials2.json')\n",
    "#opening the gsheet and sheet you want to work with\n",
    "ss = pycred.open('NBA Stats 2020')[0]\n",
    "#overwrite what is in the sheet with your df\n",
    "ss.set_dataframe(df,(1,1))"
   ]
  },
  {
   "cell_type": "code",
   "execution_count": null,
   "metadata": {},
   "outputs": [],
   "source": []
  },
  {
   "cell_type": "markdown",
   "metadata": {},
   "source": [
    "### Get Team Data"
   ]
  },
  {
   "cell_type": "code",
   "execution_count": 10,
   "metadata": {},
   "outputs": [],
   "source": [
    "#create a dataframe from the list of dataframes pulls from pd.read_html\n",
    "df_team = pd.read_html('https://www.basketball-reference.com/leagues/NBA_2020_ratings.html')[0]\n",
    "#remove the multi-index column header\n",
    "df_team.columns = df_team.columns.droplevel()"
   ]
  },
  {
   "cell_type": "code",
   "execution_count": 30,
   "metadata": {},
   "outputs": [],
   "source": [
    "#opening the gsheet and sheet you want to work with\n",
    "ss2 = pycred.open('NBA Stats 2020')[1]\n",
    "#overwrite what is in the sheet with your df\n",
    "ss2.set_dataframe(df_team,(1,1))"
   ]
  },
  {
   "cell_type": "code",
   "execution_count": null,
   "metadata": {},
   "outputs": [],
   "source": []
  }
 ],
 "metadata": {
  "kernelspec": {
   "display_name": "Python 3",
   "language": "python",
   "name": "python3"
  },
  "language_info": {
   "codemirror_mode": {
    "name": "ipython",
    "version": 3
   },
   "file_extension": ".py",
   "mimetype": "text/x-python",
   "name": "python",
   "nbconvert_exporter": "python",
   "pygments_lexer": "ipython3",
   "version": "3.7.1"
  }
 },
 "nbformat": 4,
 "nbformat_minor": 2
}
