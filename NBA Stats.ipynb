{
 "cells": [
  {
   "cell_type": "markdown",
   "metadata": {},
   "source": [
    "### NBA Stats Project"
   ]
  },
  {
   "cell_type": "code",
   "execution_count": 1,
   "metadata": {},
   "outputs": [],
   "source": [
    "#import necessary libraries\n",
    "import pandas as pd\n",
    "import time\n",
    "import gspread\n",
    "from oauth2client.service_account import ServiceAccountCredentials\n",
    "import pygsheets\n",
    "import datetime"
   ]
  },
  {
   "cell_type": "code",
   "execution_count": 2,
   "metadata": {},
   "outputs": [],
   "source": [
    "date = datetime.datetime.now().strftime(\"%Y-%m-%d %H:%M:%S\")"
   ]
  },
  {
   "cell_type": "markdown",
   "metadata": {},
   "source": [
    "### Get Player Data\n",
    "Per Game & Totals. Then concatenate them together"
   ]
  },
  {
   "cell_type": "code",
   "execution_count": 3,
   "metadata": {},
   "outputs": [],
   "source": [
    "#create a dataframe from the list of dataframes pulls from pd.read_html\n",
    "df_player = pd.read_html('https://www.basketball-reference.com/leagues/NBA_2020_per_game.html')[0]"
   ]
  },
  {
   "cell_type": "code",
   "execution_count": 4,
   "metadata": {},
   "outputs": [],
   "source": [
    "#select numeric columns to be used in converting to float\n",
    "num_cols = df_player.columns.drop(['Player','Pos','Age','Tm','G','GS'])\n",
    "df_player[num_cols] = df_player[num_cols].apply(pd.to_numeric, errors='coerce')\n",
    "df_player = df_player[df_player.Rk > 0]\n",
    "df_player = df_player.groupby('Player').first().reset_index()"
   ]
  },
  {
   "cell_type": "code",
   "execution_count": 5,
   "metadata": {},
   "outputs": [],
   "source": [
    "#df_player['Player'].value_counts().sort_values(ascending=False).head(10)"
   ]
  },
  {
   "cell_type": "code",
   "execution_count": null,
   "metadata": {},
   "outputs": [],
   "source": []
  },
  {
   "cell_type": "code",
   "execution_count": 6,
   "metadata": {},
   "outputs": [],
   "source": [
    "#pull in the totals and not just the per game\n",
    "df_player_total = pd.read_html('https://www.basketball-reference.com/leagues/NBA_2020_totals.html')[0]"
   ]
  },
  {
   "cell_type": "code",
   "execution_count": 7,
   "metadata": {},
   "outputs": [],
   "source": [
    "#select numeric columns to be used in converting to float\n",
    "num_cols = df_player_total.columns.drop(['Player','Pos','Age','Tm','G','GS'])\n",
    "df_player_total[num_cols] = df_player_total[num_cols].apply(pd.to_numeric, errors='coerce')\n",
    "df_player_total = df_player_total[['Player','Rk','MP','FG','FGA','3P','3PA','FT',\n",
    "                                   'FTA','TRB','AST','STL','BLK','TOV','PF',\n",
    "                                   'PTS']]\n",
    "df_player_total = df_player_total[df_player_total.Rk > 0]\n",
    "df_player_total = df_player_total.groupby('Player').first().reset_index()"
   ]
  },
  {
   "cell_type": "code",
   "execution_count": 8,
   "metadata": {},
   "outputs": [],
   "source": [
    "df_combo = df_player.merge(df_player_total, on='Player', suffixes=('_Per','_Tot'))"
   ]
  },
  {
   "cell_type": "markdown",
   "metadata": {},
   "source": [
    "### Get Advanced Stats"
   ]
  },
  {
   "cell_type": "code",
   "execution_count": 9,
   "metadata": {},
   "outputs": [],
   "source": [
    "#create a dataframe from the list of dataframes pulls from pd.read_html\n",
    "df_adv = pd.read_html('https://www.basketball-reference.com/leagues/NBA_2020_advanced.html')[0]"
   ]
  },
  {
   "cell_type": "code",
   "execution_count": 10,
   "metadata": {},
   "outputs": [],
   "source": [
    "#wrangle the dataframe\n",
    "df_adv = df_adv.drop(['Unnamed: 19','Unnamed: 24'], axis=1)\n",
    "num_cols = df_adv.columns.drop(['Player','Pos','Age','Tm','G'])\n",
    "df_adv[num_cols] = df_adv[num_cols].apply(pd.to_numeric, errors='coerce')\n",
    "df_adv = df_adv[['Rk','Player','PER','TS%','3PAr',\n",
    "                 'FTr','ORB%','DRB%','TRB%','AST%',\n",
    "                 'STL%','BLK%','TOV%','USG%']]\n",
    "df_adv = df_adv[df_adv.Rk > 0]\n",
    "df_adv = df_adv.groupby('Player').first().reset_index()"
   ]
  },
  {
   "cell_type": "code",
   "execution_count": 11,
   "metadata": {},
   "outputs": [],
   "source": [
    "df_combo = df_combo.merge(df_adv, on='Player', suffixes=('_M1','Adv'))"
   ]
  },
  {
   "cell_type": "markdown",
   "metadata": {},
   "source": [
    "### Get Per 100 Possessions Stats"
   ]
  },
  {
   "cell_type": "code",
   "execution_count": 12,
   "metadata": {},
   "outputs": [],
   "source": [
    "#create a dataframe from the list of dataframes pulls from pd.read_html\n",
    "df_100 = pd.read_html('https://www.basketball-reference.com/leagues/NBA_2020_per_poss.html')[0]"
   ]
  },
  {
   "cell_type": "code",
   "execution_count": 13,
   "metadata": {},
   "outputs": [],
   "source": [
    "#wrangle the dataframe\n",
    "df_100 = df_100[['Rk','Player','ORtg','DRtg','PTS']]\n",
    "num_cols = df_100.columns.drop(['Player'])\n",
    "df_100[num_cols] = df_100[num_cols].apply(pd.to_numeric, errors='coerce')\n",
    "df_100 = df_100[df_100.Rk > 0]\n",
    "df_100 = df_100.groupby('Player').first().reset_index()"
   ]
  },
  {
   "cell_type": "code",
   "execution_count": 14,
   "metadata": {},
   "outputs": [],
   "source": [
    "df_combo = df_combo.merge(df_100, on='Player', suffixes=('_M1','100'))\n",
    "df_combo = df_combo.drop(['Rk100','Rk_M1','Rk_Tot','Rk_Per'], axis=1)\n",
    "df_combo = df_combo.rename(columns={'PTS':'PTS_100'})\n",
    "df_combo['UpdateTime'] = date"
   ]
  },
  {
   "cell_type": "code",
   "execution_count": 22,
   "metadata": {},
   "outputs": [
    {
     "data": {
      "text/html": [
       "<div>\n",
       "<style scoped>\n",
       "    .dataframe tbody tr th:only-of-type {\n",
       "        vertical-align: middle;\n",
       "    }\n",
       "\n",
       "    .dataframe tbody tr th {\n",
       "        vertical-align: top;\n",
       "    }\n",
       "\n",
       "    .dataframe thead th {\n",
       "        text-align: right;\n",
       "    }\n",
       "</style>\n",
       "<table border=\"1\" class=\"dataframe\">\n",
       "  <thead>\n",
       "    <tr style=\"text-align: right;\">\n",
       "      <th></th>\n",
       "      <th>Player</th>\n",
       "      <th>Pos</th>\n",
       "      <th>Age</th>\n",
       "      <th>Tm</th>\n",
       "      <th>G</th>\n",
       "      <th>GS</th>\n",
       "      <th>MP_Per</th>\n",
       "      <th>FG_Per</th>\n",
       "      <th>FGA_Per</th>\n",
       "      <th>FG%</th>\n",
       "      <th>...</th>\n",
       "      <th>TRB%</th>\n",
       "      <th>AST%</th>\n",
       "      <th>STL%</th>\n",
       "      <th>BLK%</th>\n",
       "      <th>TOV%</th>\n",
       "      <th>USG%</th>\n",
       "      <th>ORtg</th>\n",
       "      <th>DRtg</th>\n",
       "      <th>PTS_100</th>\n",
       "      <th>UpdateTime</th>\n",
       "    </tr>\n",
       "  </thead>\n",
       "  <tbody>\n",
       "    <tr>\n",
       "      <th>471</th>\n",
       "      <td>Yuta Watanabe</td>\n",
       "      <td>SG</td>\n",
       "      <td>25</td>\n",
       "      <td>MEM</td>\n",
       "      <td>4</td>\n",
       "      <td>0</td>\n",
       "      <td>4.5</td>\n",
       "      <td>0.8</td>\n",
       "      <td>1.5</td>\n",
       "      <td>0.500</td>\n",
       "      <td>...</td>\n",
       "      <td>14.8</td>\n",
       "      <td>0.0</td>\n",
       "      <td>0.0</td>\n",
       "      <td>4.8</td>\n",
       "      <td>14.3</td>\n",
       "      <td>16.2</td>\n",
       "      <td>100.0</td>\n",
       "      <td>112.0</td>\n",
       "      <td>18.1</td>\n",
       "      <td>2020-01-02 16:21:55</td>\n",
       "    </tr>\n",
       "    <tr>\n",
       "      <th>472</th>\n",
       "      <td>Zach Collins</td>\n",
       "      <td>PF</td>\n",
       "      <td>22</td>\n",
       "      <td>POR</td>\n",
       "      <td>3</td>\n",
       "      <td>3</td>\n",
       "      <td>28.7</td>\n",
       "      <td>3.0</td>\n",
       "      <td>6.3</td>\n",
       "      <td>0.474</td>\n",
       "      <td>...</td>\n",
       "      <td>7.1</td>\n",
       "      <td>9.3</td>\n",
       "      <td>0.0</td>\n",
       "      <td>1.9</td>\n",
       "      <td>21.7</td>\n",
       "      <td>13.6</td>\n",
       "      <td>112.0</td>\n",
       "      <td>117.0</td>\n",
       "      <td>14.8</td>\n",
       "      <td>2020-01-02 16:21:55</td>\n",
       "    </tr>\n",
       "    <tr>\n",
       "      <th>473</th>\n",
       "      <td>Zach LaVine</td>\n",
       "      <td>SG</td>\n",
       "      <td>24</td>\n",
       "      <td>CHI</td>\n",
       "      <td>34</td>\n",
       "      <td>34</td>\n",
       "      <td>33.3</td>\n",
       "      <td>7.9</td>\n",
       "      <td>18.5</td>\n",
       "      <td>0.427</td>\n",
       "      <td>...</td>\n",
       "      <td>7.3</td>\n",
       "      <td>20.9</td>\n",
       "      <td>1.9</td>\n",
       "      <td>1.2</td>\n",
       "      <td>13.9</td>\n",
       "      <td>30.7</td>\n",
       "      <td>104.0</td>\n",
       "      <td>107.0</td>\n",
       "      <td>33.4</td>\n",
       "      <td>2020-01-02 16:21:55</td>\n",
       "    </tr>\n",
       "    <tr>\n",
       "      <th>474</th>\n",
       "      <td>Zach Norvell</td>\n",
       "      <td>SG</td>\n",
       "      <td>22</td>\n",
       "      <td>LAL</td>\n",
       "      <td>2</td>\n",
       "      <td>0</td>\n",
       "      <td>2.5</td>\n",
       "      <td>0.0</td>\n",
       "      <td>0.5</td>\n",
       "      <td>0.000</td>\n",
       "      <td>...</td>\n",
       "      <td>11.1</td>\n",
       "      <td>0.0</td>\n",
       "      <td>0.0</td>\n",
       "      <td>0.0</td>\n",
       "      <td>0.0</td>\n",
       "      <td>8.5</td>\n",
       "      <td>0.0</td>\n",
       "      <td>109.0</td>\n",
       "      <td>0.0</td>\n",
       "      <td>2020-01-02 16:21:55</td>\n",
       "    </tr>\n",
       "    <tr>\n",
       "      <th>475</th>\n",
       "      <td>Zylan Cheatham</td>\n",
       "      <td>SF</td>\n",
       "      <td>24</td>\n",
       "      <td>NOP</td>\n",
       "      <td>2</td>\n",
       "      <td>0</td>\n",
       "      <td>10.0</td>\n",
       "      <td>0.5</td>\n",
       "      <td>2.0</td>\n",
       "      <td>0.250</td>\n",
       "      <td>...</td>\n",
       "      <td>7.9</td>\n",
       "      <td>6.2</td>\n",
       "      <td>0.0</td>\n",
       "      <td>0.0</td>\n",
       "      <td>20.0</td>\n",
       "      <td>10.3</td>\n",
       "      <td>53.0</td>\n",
       "      <td>117.0</td>\n",
       "      <td>4.7</td>\n",
       "      <td>2020-01-02 16:21:55</td>\n",
       "    </tr>\n",
       "  </tbody>\n",
       "</table>\n",
       "<p>5 rows × 59 columns</p>\n",
       "</div>"
      ],
      "text/plain": [
       "             Player Pos Age   Tm   G  GS  MP_Per  FG_Per  FGA_Per    FG%  ...  \\\n",
       "471   Yuta Watanabe  SG  25  MEM   4   0     4.5     0.8      1.5  0.500  ...   \n",
       "472    Zach Collins  PF  22  POR   3   3    28.7     3.0      6.3  0.474  ...   \n",
       "473     Zach LaVine  SG  24  CHI  34  34    33.3     7.9     18.5  0.427  ...   \n",
       "474    Zach Norvell  SG  22  LAL   2   0     2.5     0.0      0.5  0.000  ...   \n",
       "475  Zylan Cheatham  SF  24  NOP   2   0    10.0     0.5      2.0  0.250  ...   \n",
       "\n",
       "     TRB%  AST%  STL%  BLK%  TOV%  USG%   ORtg   DRtg  PTS_100  \\\n",
       "471  14.8   0.0   0.0   4.8  14.3  16.2  100.0  112.0     18.1   \n",
       "472   7.1   9.3   0.0   1.9  21.7  13.6  112.0  117.0     14.8   \n",
       "473   7.3  20.9   1.9   1.2  13.9  30.7  104.0  107.0     33.4   \n",
       "474  11.1   0.0   0.0   0.0   0.0   8.5    0.0  109.0      0.0   \n",
       "475   7.9   6.2   0.0   0.0  20.0  10.3   53.0  117.0      4.7   \n",
       "\n",
       "              UpdateTime  \n",
       "471  2020-01-02 16:21:55  \n",
       "472  2020-01-02 16:21:55  \n",
       "473  2020-01-02 16:21:55  \n",
       "474  2020-01-02 16:21:55  \n",
       "475  2020-01-02 16:21:55  \n",
       "\n",
       "[5 rows x 59 columns]"
      ]
     },
     "execution_count": 22,
     "metadata": {},
     "output_type": "execute_result"
    }
   ],
   "source": [
    "df_combo.tail()"
   ]
  },
  {
   "cell_type": "markdown",
   "metadata": {},
   "source": [
    "### Connect to Google Sheets"
   ]
  },
  {
   "cell_type": "code",
   "execution_count": 16,
   "metadata": {},
   "outputs": [],
   "source": [
    "pycred = pygsheets.authorize(service_file='credentials2.json')\n",
    "#opening the gsheet and sheet you want to work with\n",
    "ss = pycred.open('NBA Stats 2020')[0]\n",
    "#overwrite what is in the sheet with your df\n",
    "ss.set_dataframe(df_combo,(1,1))"
   ]
  },
  {
   "cell_type": "code",
   "execution_count": null,
   "metadata": {},
   "outputs": [],
   "source": []
  },
  {
   "cell_type": "markdown",
   "metadata": {},
   "source": [
    "### Get Team Data"
   ]
  },
  {
   "cell_type": "code",
   "execution_count": 17,
   "metadata": {},
   "outputs": [],
   "source": [
    "#create a dataframe from the list of dataframes pulls from pd.read_html\n",
    "df_team = pd.read_html('https://www.basketball-reference.com/leagues/NBA_2020_ratings.html')[0]\n",
    "#remove the multi-index column header\n",
    "df_team.columns = df_team.columns.droplevel()"
   ]
  },
  {
   "cell_type": "code",
   "execution_count": 18,
   "metadata": {},
   "outputs": [],
   "source": [
    "#opening the gsheet and sheet you want to work with\n",
    "ss2 = pycred.open('NBA Stats 2020')[1]\n",
    "#overwrite what is in the sheet with your df\n",
    "ss2.set_dataframe(df_team,(1,1))"
   ]
  },
  {
   "cell_type": "markdown",
   "metadata": {},
   "source": [
    "### Get per game data from the highest scorers in NBA history"
   ]
  },
  {
   "cell_type": "code",
   "execution_count": 19,
   "metadata": {},
   "outputs": [],
   "source": [
    "#url_list = []\n",
    "\n",
    "#for i in range(2008,2020):\n",
    "#    urls = 'https://www.basketball-reference.com/players/j/duranke01/gamelog/%d' %i\n",
    "#    data = pd.read_html(urls)[7]\n",
    "#    #data = data[['Rk','G','Date','']]\n",
    "#    data['Year'] = i\n",
    "#    url_list.append(data)"
   ]
  },
  {
   "cell_type": "code",
   "execution_count": 20,
   "metadata": {},
   "outputs": [],
   "source": [
    "#lebron_data = pd.concat(url_list, ignore_index=True)"
   ]
  },
  {
   "cell_type": "code",
   "execution_count": null,
   "metadata": {},
   "outputs": [],
   "source": []
  }
 ],
 "metadata": {
  "kernelspec": {
   "display_name": "Python 3",
   "language": "python",
   "name": "python3"
  },
  "language_info": {
   "codemirror_mode": {
    "name": "ipython",
    "version": 3
   },
   "file_extension": ".py",
   "mimetype": "text/x-python",
   "name": "python",
   "nbconvert_exporter": "python",
   "pygments_lexer": "ipython3",
   "version": "3.6.0"
  }
 },
 "nbformat": 4,
 "nbformat_minor": 2
}
